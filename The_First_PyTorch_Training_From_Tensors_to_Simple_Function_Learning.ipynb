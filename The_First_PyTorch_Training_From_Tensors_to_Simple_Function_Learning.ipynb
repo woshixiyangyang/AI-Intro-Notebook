{
  "nbformat": 4,
  "nbformat_minor": 0,
  "metadata": {
    "colab": {
      "provenance": [],
      "authorship_tag": "ABX9TyNiFofV3RCAmzrgdd0FTP0k",
      "include_colab_link": true
    },
    "kernelspec": {
      "name": "python3",
      "display_name": "Python 3"
    },
    "language_info": {
      "name": "python"
    }
  },
  "cells": [
    {
      "cell_type": "markdown",
      "metadata": {
        "id": "view-in-github",
        "colab_type": "text"
      },
      "source": [
        "<a href=\"https://colab.research.google.com/github/woshixiyangyang/AI-Intro-Notebook/blob/main/The_First_PyTorch_Training_From_Tensors_to_Simple_Function_Learning.ipynb\" target=\"_parent\"><img src=\"https://colab.research.google.com/assets/colab-badge.svg\" alt=\"Open In Colab\"/></a>"
      ]
    },
    {
      "cell_type": "code",
      "execution_count": 1,
      "metadata": {
        "colab": {
          "base_uri": "https://localhost:8080/"
        },
        "id": "d4z0mulVCgHF",
        "outputId": "09e00054-4bfe-48ca-c10a-82c6e5b30e08"
      },
      "outputs": [
        {
          "output_type": "stream",
          "name": "stdout",
          "text": [
            "torch.Size([2])\n",
            "torch.Size([1, 2])\n",
            "torch.Size([1, 1])\n"
          ]
        }
      ],
      "source": [
        "import torch\n",
        "\n",
        "five = torch.Tensor([5])\n",
        "three = torch.Tensor([3])\n",
        "eight = torch.Tensor([8])\n",
        "\n",
        "from torch.nn import Linear, MSELoss\n",
        "\n",
        "f = Linear(2, 1)\n",
        "input = torch.cat([five, three])\n",
        "print(input.shape)\n",
        "\n",
        "input = input.unsqueeze(0)\n",
        "eight = eight.unsqueeze(0)\n",
        "print(input.shape)\n",
        "print(eight.shape)"
      ]
    },
    {
      "cell_type": "code",
      "source": [
        "from torch.optim import Adam\n",
        "from torch.nn import MSELoss\n",
        "from tqdm import trange\n",
        "\n",
        "# 옵티마이저와 손실 함수 정의\n",
        "optimizer = Adam(f.parameters(), lr=1e-4)\n",
        "mse = MSELoss()\n",
        "\n",
        "# 학습 루프\n",
        "pbar = trange(15000)\n",
        "outputs = []\n",
        "\n",
        "for i in pbar:\n",
        "    output = f(input)                      # 모델 출력\n",
        "    loss = mse(output, eight)              # 출력과 목표값 비교 (MSE)\n",
        "\n",
        "    optimizer.zero_grad()                  # 기존 gradient 초기화\n",
        "    loss.backward()                        # 역전파\n",
        "    optimizer.step()                       # 파라미터 업데이트\n",
        "\n",
        "    pbar.set_description(f'output = {output.item()}')\n",
        "\n",
        "    if i % 100 == 0:                       # 100번마다 결과 저장\n",
        "        outputs.append(output.item())\n"
      ],
      "metadata": {
        "colab": {
          "base_uri": "https://localhost:8080/"
        },
        "id": "oGxyHoTfJyEo",
        "outputId": "c52fa43b-6ef5-4860-b6da-099a41ed0b98"
      },
      "execution_count": 2,
      "outputs": [
        {
          "output_type": "stream",
          "name": "stderr",
          "text": [
            "output = 7.999967575073242: 100%|██████████| 15000/15000 [00:33<00:00, 450.63it/s]\n"
          ]
        }
      ]
    },
    {
      "cell_type": "code",
      "source": [
        "from matplotlib import pyplot as plt\n",
        "\n",
        "plt.plot(outputs)\n",
        "plt.show()"
      ],
      "metadata": {
        "colab": {
          "base_uri": "https://localhost:8080/",
          "height": 430
        },
        "id": "PLJVq_hkNcTr",
        "outputId": "d30e5b0b-a460-49a9-ba18-4ba3836afbc1"
      },
      "execution_count": 3,
      "outputs": [
        {
          "output_type": "display_data",
          "data": {
            "text/plain": [
              "<Figure size 640x480 with 1 Axes>"
            ],
            "image/png": "[encoded data removed]"
          },
          "metadata": {}
        }
      ]
    },
    {
      "cell_type": "code",
      "source": [
        "f(torch.Tensor([2, 4]))"
      ],
      "metadata": {
        "colab": {
          "base_uri": "https://localhost:8080/"
        },
        "id": "mpNUadpeQ-X9",
        "outputId": "c71ecd6e-2f50-42f3-b582-196ff61a7083"
      },
      "execution_count": 6,
      "outputs": [
        {
          "output_type": "execute_result",
          "data": {
            "text/plain": [
              "tensor([6.2757], grad_fn=<ViewBackward0>)"
            ]
          },
          "metadata": {},
          "execution_count": 6
        }
      ]
    }
  ]
}